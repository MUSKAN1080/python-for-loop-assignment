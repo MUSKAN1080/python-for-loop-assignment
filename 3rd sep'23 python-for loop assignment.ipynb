{
 "cells": [
  {
   "cell_type": "code",
   "execution_count": null,
   "id": "0586f4c5-5a9c-436b-90ae-f815100b9e12",
   "metadata": {},
   "outputs": [],
   "source": [
    "# Basic level assignment Question\n",
    "\n",
    "#1. Write a Python program to print the numbers from 1 to 10 using a `for` loop.\n",
    "for i in range(1,11):\n",
    "   print(i)\n"
   ]
  },
  {
   "cell_type": "code",
   "execution_count": null,
   "id": "8ecb7b3e-66e9-4dd9-8fb7-a64a4b38933b",
   "metadata": {},
   "outputs": [],
   "source": [
    "#2. Create a program that calculates the sum of all numbers in a list using a `for` loop.\n",
    "\n",
    "numbers = [1, 2, 3, 4, 5]\n",
    "sum_result = 0\n",
    "\n",
    "for num in numbers:\n",
    "    sum_result += num\n",
    "\n",
    "print(\"Sum:\", sum_result)\n"
   ]
  },
  {
   "cell_type": "code",
   "execution_count": null,
   "id": "62fd852f-3791-4e2d-bb12-93fdaa4854ab",
   "metadata": {},
   "outputs": [],
   "source": [
    "#3. Write a program to print the characters of a string in reverse order using a `for` loop.\n",
    "# Task 3\n",
    "input_string = \"Hello, World!\"\n",
    "\n",
    "for char in reversed(input_string):\n",
    "    print(char,  end=\"\")"
   ]
  },
  {
   "cell_type": "code",
   "execution_count": null,
   "id": "2f56b257-004d-484e-91d2-9a11d0dc40e9",
   "metadata": {},
   "outputs": [],
   "source": [
    "#4. Develop a program that finds the factorial of a given number using a `for` loop.\n",
    "i=int(input(\"Enter a Number: \"))\n",
    "fac=1\n",
    "while(i>0):\n",
    "    fac=fac*i\n",
    "    i=i-1\n",
    "print(\"Factorial of a given number is : \",fac)    "
   ]
  },
  {
   "cell_type": "code",
   "execution_count": null,
   "id": "914831e4-f342-4682-a3ac-e2e7da2c9286",
   "metadata": {},
   "outputs": [],
   "source": [
    "#5. Create a program to print the multiplication table of a given number using a `for` loop.\n",
    "x=int(input(\"Enter Number to find Table : \"))\n",
    "for y in range(1,11):\n",
    "    print(x*y)"
   ]
  },
  {
   "cell_type": "code",
   "execution_count": null,
   "id": "685a80e2-b940-473e-9409-307648071fb0",
   "metadata": {},
   "outputs": [],
   "source": [
    "#6. Write a program that counts the number of even and odd numbers in a list using a `for` loop.\n",
    "a=[]\n",
    "size=int(input(\"How many Element you want to Enter\"))\n",
    "for i in range(size):\n",
    "    val=int(input(\"Enter Number\"))\n",
    "    a.append(val)\n",
    "even=0\n",
    "odd=0\n",
    "for i in range(size):\n",
    "    if(a[i]%2==0):\n",
    "       even=even+1\n",
    "    else:\n",
    "       odd=odd+1\n",
    "print(\"Total Even=\",even,\"Total odd=\", odd)       \n"
   ]
  },
  {
   "cell_type": "code",
   "execution_count": null,
   "id": "026fc054-5da8-4ce7-b320-76dbf393339e",
   "metadata": {},
   "outputs": [],
   "source": [
    "#7. Develop a program that prints the squares of numbers from 1 to 5 using a `for` loop.\n",
    "# Task 7\n",
    "for i in range(1, 6):\n",
    "    print(i**2)"
   ]
  },
  {
   "cell_type": "code",
   "execution_count": null,
   "id": "98409078-8deb-439b-89af-74bce75d9505",
   "metadata": {},
   "outputs": [],
   "source": [
    "#8. Create a program to find the length of a string without using the `len()` function.\n",
    "\n",
    "input_string = \"Hello, World!\"\n",
    "length = 0\n",
    "\n",
    "for _ in input_string:\n",
    "    length += 1\n",
    "\n",
    "print(\"Length of the string:\", length)"
   ]
  },
  {
   "cell_type": "code",
   "execution_count": null,
   "id": "3b0a1fe7-8d9c-4e80-a582-26436ab645d3",
   "metadata": {},
   "outputs": [],
   "source": [
    "#9. Write a program that calculates the average of a list of numbers using a `for` loop.\n",
    "\n",
    "numbers = [10, 20, 30, 40, 50]\n",
    "sum_result = 0\n",
    "\n",
    "for num in numbers:\n",
    "    sum_result += num\n",
    "\n",
    "average = sum_result / len(numbers)\n",
    "print(\"Average:\", average)"
   ]
  },
  {
   "cell_type": "code",
   "execution_count": null,
   "id": "b5c98fb6-2b3c-4268-bbc4-153c0f6cfd86",
   "metadata": {},
   "outputs": [],
   "source": [
    "#10. Develop a program that prints the first `n` Fibonacci numbers using a `for` loop.\n",
    "\n",
    "n = 5\n",
    "fibonacci_sequence = [0, 1]\n",
    "\n",
    "for i in range(2, n):\n",
    "    next_number = fibonacci_sequence[-1] + fibonacci_sequence[-2]\n",
    "    fibonacci_sequence.append(next_number)\n",
    "\n",
    "print(\"First\", n, \"Fibonacci numbers:\", fibonacci_sequence)\n"
   ]
  },
  {
   "cell_type": "code",
   "execution_count": null,
   "id": "c6d88dc0-d3d7-4e23-928c-b5221b5dfa51",
   "metadata": {},
   "outputs": [],
   "source": [
    "# Intermediate Level:\n",
    "\n",
    "#11. Write a program to check if a given list contains any duplicates using a `for` loop.\n",
    "a=[1,2,3,4,2,7,8,3,4]\n",
    "for i in range(0,len(a)):\n",
    "    for j in range(i+1,len(a)):\n",
    "        if(a[i]==a[j]):\n",
    "            print(a[j])\n"
   ]
  },
  {
   "cell_type": "code",
   "execution_count": null,
   "id": "b5ceac77-94a1-4b9d-93d6-706a9807fde7",
   "metadata": {},
   "outputs": [],
   "source": [
    "#12. Create a program that prints the prime numbers in a given range using a `for` loop.\n",
    "\n",
    "def is_prime(num):\n",
    "    if num < 2:\n",
    "        return False\n",
    "    for i in range(2, int(num**0.5) + 1):\n",
    "        if num % i == 0:\n",
    "            return False\n",
    "    return True\n",
    "\n",
    "start_range = 10\n",
    "end_range = 30\n",
    "print(\"Prime numbers between\", start_range, \"and\", end_range, \"are:\")\n",
    "for num in range(start_range, end_range + 1):\n",
    "    if is_prime(num):\n",
    "        print(num)\n"
   ]
  },
  {
   "cell_type": "code",
   "execution_count": null,
   "id": "5a131678-b49a-4dd0-995f-778491945f69",
   "metadata": {},
   "outputs": [],
   "source": [
    "#13. Develop a program that counts the number of vowels in a string using a `for` loop.\n",
    "\n",
    "input_string = \"Hello, World!\"\n",
    "vowel_count = 0\n",
    "\n",
    "for char in input_string:\n",
    "    if char.lower() in ['a', 'e', 'i', 'o', 'u']:\n",
    "        vowel_count += 1\n",
    "\n",
    "print(\"Number of vowels:\", vowel_count)\n"
   ]
  },
  {
   "cell_type": "code",
   "execution_count": null,
   "id": "575e567a-b6dc-4754-821a-36dd9d2905cc",
   "metadata": {},
   "outputs": [],
   "source": [
    "#14. Write a program to find the maximum element in a 2D list using a nested `for` loop.\n",
    "\n",
    "matrix = [\n",
    "    [1, 2, 3],\n",
    "    [4, 5, 6],\n",
    "    [7, 8, 9]\n",
    "]\n",
    "\n",
    "max_element = float('-inf')\n",
    "\n",
    "for row in matrix:\n",
    "    for element in row:\n",
    "        if element > max_element:\n",
    "            max_element = element\n",
    "\n",
    "print(\"Maximum element in the 2D list:\", max_element)"
   ]
  },
  {
   "cell_type": "code",
   "execution_count": null,
   "id": "19d40fd4-df66-40d2-a451-e285fdb70331",
   "metadata": {},
   "outputs": [],
   "source": [
    "#15. Create a program that removes all occurrences of a specific element from a list using a `for` loop.\n",
    "\n",
    "original_list = [1, 2, 3, 4, 2, 5, 2]\n",
    "element_to_remove = 2\n",
    "\n",
    "filtered_list = [item for item in original_list if item != element_to_remove]\n",
    "\n",
    "print(\"List after removing\", element_to_remove, \":\", filtered_list)"
   ]
  },
  {
   "cell_type": "code",
   "execution_count": null,
   "id": "ff651673-adae-4c6b-baef-b74ab0af5771",
   "metadata": {},
   "outputs": [],
   "source": [
    "#16. Develop a program that generates a multiplication table for numbers from 1 to 5 using a nested `for` loop.\n",
    "\n",
    "for i in range(1, 6):\n",
    "    print(f\"Multiplication table for {i}:\")\n",
    "    for j in range(1, 11):\n",
    "        print(f\"{i} x {j} = {i * j}\")"
   ]
  },
  {
   "cell_type": "code",
   "execution_count": null,
   "id": "3298368a-77a8-444f-8f31-9fa2e83a6d74",
   "metadata": {},
   "outputs": [],
   "source": [
    "#17. Write a program that converts a list of Fahrenheit temperatures to Celsius using a `for` loop.\n",
    "\n",
    "fahrenheit_temperatures = [32, 68, 95, 104, 212]\n",
    "celsius_temperatures = [(temp - 32) * 5/9 for temp in fahrenheit_temperatures]\n",
    "\n",
    "print(\"Fahrenheit Temperatures:\", fahrenheit_temperatures)\n",
    "print(\"Celsius Temperatures:\", celsius_temperatures)"
   ]
  },
  {
   "cell_type": "code",
   "execution_count": null,
   "id": "175a600d-8ffd-40f2-b080-db05701ed45e",
   "metadata": {},
   "outputs": [],
   "source": [
    "#18. Create a program to print the common elements from two lists using a `for` loop.\n",
    "\n",
    "list1 = [1, 2, 3, 4, 5]\n",
    "list2 = [3, 4, 5, 6, 7]\n",
    "\n",
    "common_elements = [item for item in list1 if item in list2]\n",
    "\n",
    "print(\"Common elements:\", common_elements)"
   ]
  },
  {
   "cell_type": "code",
   "execution_count": null,
   "id": "a10072bb-7cb7-4a2b-9f6d-36e2de0f4c4d",
   "metadata": {},
   "outputs": [],
   "source": [
    "#19. Develop a program that prints the pattern of right-angled triangles using a `for` loop. Use ‘*’ to draw the\n",
    "#pattern\n",
    "\n",
    "for i in range(1, 6):\n",
    "    print(\"*\" * i)\n"
   ]
  },
  {
   "cell_type": "code",
   "execution_count": null,
   "id": "6f6ecabe-428b-4201-a7ee-a72b65cb8c73",
   "metadata": {},
   "outputs": [],
   "source": [
    "#20. Write a program to find the greatest common divisor (GCD) of two numbers using a `for` loop.\n",
    "\n",
    "def find_gcd(a, b):\n",
    "    while b:\n",
    "        a, b = b, a % b\n",
    "    return a\n",
    "\n",
    "num1 = 24\n",
    "num2 = 36\n",
    "\n",
    "gcd_result = find_gcd(num1, num2)\n",
    "print(\"GCD of\", num1, \"and\", num2, \"is:\", gcd_result)\n"
   ]
  },
  {
   "cell_type": "code",
   "execution_count": null,
   "id": "332ffdf8-9c7f-4d4f-afe5-a1680c40ec13",
   "metadata": {},
   "outputs": [],
   "source": [
    "#Advanced Level:\n",
    "\n",
    "#21. Create a program that calculates the sum of the digits of numbers in a list using a list comprehension.\n",
    "\n",
    "numbers = [123, 456, 789]\n",
    "digit_sum_list = [sum(int(digit) for digit in str(num)) for num in numbers]\n",
    "\n",
    "print(\"Sum of digits for each number:\", digit_sum_list)\n"
   ]
  },
  {
   "cell_type": "code",
   "execution_count": null,
   "id": "33fe6b83-fbf8-4ac7-ac35-808001095666",
   "metadata": {},
   "outputs": [],
   "source": [
    "#22. Write a program to find the prime factors of a given number using a `for` loop and list comprehension.\n",
    "\n",
    "def prime_factors(num):\n",
    "    factors = [factor for factor in range(2, num + 1) if num % factor == 0 and all(factor % i != 0 for i in range(2, int(factor**0.5) + 1))]\n",
    "    return factors\n",
    "\n",
    "number_to_factorize = 24\n",
    "prime_factors_list = prime_factors(number_to_factorize)\n",
    "\n",
    "print(\"Prime factors of\", number_to_factorize, \"are:\", prime_factors_list)\n"
   ]
  },
  {
   "cell_type": "code",
   "execution_count": null,
   "id": "259edf65-0fe0-4591-8671-2468d642eec9",
   "metadata": {},
   "outputs": [],
   "source": [
    "#23. Develop a program that extracts unique elements from a list and stores them in a new list using a list\n",
    "#comprehension.\n",
    "\n",
    "original_list = [1, 2, 3, 2, 4, 5, 6, 5]\n",
    "unique_elements = list(set(original_list))\n",
    "\n",
    "print(\"Unique elements:\", unique_elements)"
   ]
  },
  {
   "cell_type": "code",
   "execution_count": null,
   "id": "628f4083-7eed-4fff-be55-ead2d977c85a",
   "metadata": {},
   "outputs": [],
   "source": [
    "#24. Create a program that generates a list of all palindromic numbers up to a specified limit using a list\n",
    "#comprehension.\n",
    "\n",
    "limit = 100\n",
    "palindromic_numbers = [num for num in range(1, limit + 1) if str(num) == str(num)[::-1]]\n",
    "\n",
    "print(\"Palindromic numbers up to\", limit, \"are:\", palindromic_numbers)"
   ]
  },
  {
   "cell_type": "code",
   "execution_count": null,
   "id": "4f05d68e-be0d-4d7d-8cf1-c904b246d173",
   "metadata": {},
   "outputs": [],
   "source": [
    "#25. Write a program to flatten a nested list using list comprehension.\n",
    "\n",
    "nested_list = [[1, 2, 3], [4, 5], [6, 7, 8]]\n",
    "flattened_list = [item for sublist in nested_list for item in sublist]\n",
    "\n",
    "print(\"Flattened list:\", flattened_list)"
   ]
  },
  {
   "cell_type": "code",
   "execution_count": null,
   "id": "44f46c73-ba34-49e7-8940-7ee75865d24e",
   "metadata": {},
   "outputs": [],
   "source": [
    "#26. Develop a program that computes the sum of even and odd numbers in a list separately using list\n",
    "#comprehension.\n",
    "\n",
    "numbers = [1, 2, 3, 4, 5, 6, 7, 8, 9]\n",
    "even_sum = sum(num for num in numbers if num % 2 == 0)\n",
    "odd_sum = sum(num for num in numbers if num % 2 != 0)\n",
    "\n",
    "print(\"Sum of even numbers:\", even_sum)\n",
    "print(\"Sum of odd numbers:\", odd_sum)\n"
   ]
  },
  {
   "cell_type": "code",
   "execution_count": null,
   "id": "74781c63-0300-43f4-92f6-2e0a7d09c18a",
   "metadata": {},
   "outputs": [],
   "source": [
    "#27. Create a program that generates a list of squares of odd numbers between 1 and 10 using list\n",
    "#comprehension.\n",
    "\n",
    "squares_of_odd_numbers = [num**2 for num in range(1, 11) if num % 2 != 0]\n",
    "\n",
    "print(\"Squares of odd numbers:\", squares_of_odd_numbers)"
   ]
  },
  {
   "cell_type": "code",
   "execution_count": null,
   "id": "73410636-ca37-4654-9bc3-9fb619286a65",
   "metadata": {},
   "outputs": [],
   "source": [
    "#28. Write a program that combines two lists into a dictionary using list comprehension.\n",
    "\n",
    "keys = ['a', 'b', 'c']\n",
    "values = [1, 2, 3]\n",
    "\n",
    "combined_dict = {key: value for key, value in zip(keys, values)}\n",
    "\n",
    "print(\"Combined dictionary:\", combined_dict)"
   ]
  },
  {
   "cell_type": "code",
   "execution_count": null,
   "id": "2db2b525-1d4c-44f1-a9c1-2b4bcfea8237",
   "metadata": {},
   "outputs": [],
   "source": [
    "#29. Develop a program that extracts the vowels from a string and stores them in a list using list comprehension.\n",
    "\n",
    "input_string = \"Hello, World!\"\n",
    "vowels_list = [char.lower() for char in input_string if char.lower() in ['a', 'e', 'i', 'o', 'u']]\n",
    "\n",
    "print(\"Vowels in the string:\", vowels_list)"
   ]
  },
  {
   "cell_type": "code",
   "execution_count": null,
   "id": "a04b8543-fec8-43d9-86ed-3c08b1e8df2b",
   "metadata": {},
   "outputs": [],
   "source": [
    "#30. Create a program that removes all non-numeric characters from a list of strings using list comprehension.\n",
    "\n",
    "string_list = ['abc', '123', 'xyz', '456']\n",
    "numeric_characters = [int(char) for string in string_list for char in string if char.isdigit()]\n",
    "\n",
    "print(\"Numeric characters:\", numeric_characters)"
   ]
  },
  {
   "cell_type": "code",
   "execution_count": null,
   "id": "0aaa566d-6181-40b3-ab30-65c9cb31a3d9",
   "metadata": {},
   "outputs": [],
   "source": [
    "#Challenge Level:\n",
    "\n",
    "#31. Write a program to generate a list of prime numbers using the Sieve of Eratosthenes algorithm and list\n",
    "#comprehension.\n",
    "\n",
    "def sieve_of_eratosthenes(limit):\n",
    "    primes = [True] * (limit + 1)\n",
    "    primes[0], primes[1] = False, False  # 0 and 1 are not prime numbers\n",
    "\n",
    "    for num in range(2, int(limit**0.5) + 1):\n",
    "        if primes[num]:\n",
    "            primes[num*num:limit+1:num] = [False] * len(primes[num*num:limit+1:num])\n",
    "\n",
    "    return [num for num in range(2, limit + 1) if primes[num]]\n",
    "\n",
    "limit_for_primes = 50\n",
    "prime_numbers = sieve_of_eratosthenes(limit_for_primes)\n",
    "\n",
    "print(\"Prime numbers up to\", limit_for_primes, \"are:\", prime_numbers)\n"
   ]
  },
  {
   "cell_type": "code",
   "execution_count": null,
   "id": "1ed048d1-f604-4d28-97ad-ec9d4f9c0ada",
   "metadata": {},
   "outputs": [],
   "source": [
    "#32. Create a program that generates a list of all Pythagorean triplets up to a specified limit using list\n",
    "\n",
    "limit_for_triplets = 30\n",
    "pythagorean_triplets = [(a, b, c) for a in range(1, limit_for_triplets + 1) for b in range(a, limit_for_triplets + 1) for c in range(b, limit_for_triplets + 1) if a**2 + b**2 == c**2]\n",
    "\n",
    "print(\"Pythagorean triplets up to\", limit_for_triplets, \"are:\", pythagorean_triplets)"
   ]
  },
  {
   "cell_type": "code",
   "execution_count": null,
   "id": "d5319d7e-79c1-4e33-ad92-4ca8df3029cb",
   "metadata": {},
   "outputs": [],
   "source": [
    "#33. Develop a program that generates a list of all possible combinations of two lists using list comprehension.\n",
    "\n",
    "list1 = [1, 2, 3]\n",
    "list2 = ['a', 'b', 'c']\n",
    "combinations = [(x, y) for x in list1 for y in list2]\n",
    "\n",
    "print(\"All possible combinations:\", combinations)"
   ]
  },
  {
   "cell_type": "code",
   "execution_count": null,
   "id": "564d5331-b290-4858-9c4b-311641f83acc",
   "metadata": {},
   "outputs": [],
   "source": [
    "#34. Write a program that calculates the mean, median, and mode of a list of numbers using list\n",
    "#comprehension.\n",
    "\n",
    "from statistics import mean, median, mode\n",
    "\n",
    "numbers = [5, 2, 1, 5, 3, 4, 2, 4, 3, 5]\n",
    "mean_value = mean(numbers)\n",
    "median_value = median(numbers)\n",
    "mode_value = mode(numbers)\n",
    "\n",
    "print(\"Mean:\", mean_value)\n",
    "print(\"Median:\", median_value)\n",
    "print(\"Mode:\", mode_value)"
   ]
  },
  {
   "cell_type": "code",
   "execution_count": null,
   "id": "448dc293-fab4-4032-a54d-bd3ebd80c972",
   "metadata": {},
   "outputs": [],
   "source": [
    "#35. Create a program that generates Pascal's triangle up to a specified number of rows using list\n",
    "#comprehension.\n",
    "\n",
    "def generate_pascals_triangle(rows):\n",
    "    triangle = [[1] + [sum(pair) for pair in zip(row, row[1:])] + [1] for row in\n",
    "                 [[1] + [0] * (i - 1) + [1] for i in range(1, rows + 1)]]\n",
    "    return triangle\n",
    "\n",
    "num_rows = 5\n",
    "pascals_triangle = generate_pascals_triangle(num_rows)\n",
    "\n",
    "print(\"Pascal's Triangle:\")\n",
    "for row in pascals_triangle:\n",
    "    print(row)"
   ]
  },
  {
   "cell_type": "code",
   "execution_count": null,
   "id": "afe242b8-4f9e-48a5-a43f-433c2f48667f",
   "metadata": {},
   "outputs": [],
   "source": [
    "#36. Develop a program that calculates the sum of the digits of a factorial of numbers from 1 to 5 using list\n",
    "#comprehension.\n",
    "\n",
    "from math import factorial\n",
    "\n",
    "factorial_sums = [sum(int(digit) for digit in str(factorial(num))) for num in range(1, 6)]\n",
    "\n",
    "print(\"Sum of digits of factorials:\", factorial_sums)"
   ]
  },
  {
   "cell_type": "code",
   "execution_count": null,
   "id": "2ade74e1-e292-472f-a10a-818148d7e55c",
   "metadata": {},
   "outputs": [],
   "source": [
    "#37. Write a program that finds the longest word in a sentence using list comprehension.\n",
    "\n",
    "sentence = \"This is a sample sentence to find the longest word.\"\n",
    "longest_word = max(word.strip(\".,\") for word in sentence.split(), key=len)\n",
    "\n",
    "print(\"Longest word:\", longest_word)"
   ]
  },
  {
   "cell_type": "code",
   "execution_count": null,
   "id": "d7cfc635-d3c5-4485-808c-20a46c25a061",
   "metadata": {},
   "outputs": [],
   "source": [
    "#38. Create a program that filters a list of strings to include only those with more than three vowels using list\n",
    "#comprehension.\n",
    "\n",
    "string_list = [\"apple\", \"banana\", \"kiwi\", \"orange\", \"grape\"]\n",
    "filtered_list = [word for word in string_list if sum(1 for char in word if char.lower() in ['a', 'e', 'i', 'o', 'u']) > 3]\n",
    "\n",
    "print(\"Words with more than three vowels:\", filtered_list)\n"
   ]
  },
  {
   "cell_type": "code",
   "execution_count": null,
   "id": "b7c0ccc8-3b67-4fed-9702-db849257b602",
   "metadata": {},
   "outputs": [],
   "source": [
    "#39. Develop a program that calculates the sum of the digits of numbers from 1 to 1000 using list\n",
    "#comprehension.\n",
    "\n",
    "digit_sums = [sum(int(digit) for digit in str(num)) for num in range(1, 1001)]\n",
    "\n",
    "print(\"Sum of digits from 1 to 1000:\", digit_sums)"
   ]
  },
  {
   "cell_type": "code",
   "execution_count": null,
   "id": "18787d0a-d50c-4070-bcde-4f6db3dac541",
   "metadata": {},
   "outputs": [],
   "source": [
    "#40. Write a program that generates a list of prime palindromic numbers using list comprehension.\n",
    "def is_prime(num):\n",
    "    if num < 2:\n",
    "        return False\n",
    "    for i in range(2, int(num**0.5) + 1):\n",
    "        if num % i == 0:\n",
    "            return False\n",
    "    return True\n",
    "\n",
    "palindromic_primes = [num for num in range(10, 1000) if str(num) == str(num)[::-1] and is_prime(num)]\n",
    "\n",
    "print(\"Prime palindromic numbers:\", palindromic_primes)"
   ]
  },
  {
   "cell_type": "code",
   "execution_count": null,
   "id": "2896fd54-dd46-4e0e-8c32-c8f5a5b8da9d",
   "metadata": {},
   "outputs": [],
   "source": []
  }
 ],
 "metadata": {
  "kernelspec": {
   "display_name": "Python 3 (ipykernel)",
   "language": "python",
   "name": "python3"
  },
  "language_info": {
   "codemirror_mode": {
    "name": "ipython",
    "version": 3
   },
   "file_extension": ".py",
   "mimetype": "text/x-python",
   "name": "python",
   "nbconvert_exporter": "python",
   "pygments_lexer": "ipython3",
   "version": "3.10.8"
  }
 },
 "nbformat": 4,
 "nbformat_minor": 5
}
